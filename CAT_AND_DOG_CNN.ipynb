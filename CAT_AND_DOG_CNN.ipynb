{
  "nbformat": 4,
  "nbformat_minor": 0,
  "metadata": {
    "colab": {
      "provenance": [],
      "mount_file_id": "1CJHByfpgksotK8M-CvG1lIEaBXzqxyj7",
      "authorship_tag": "ABX9TyPyK9EWPU27DsxSF8pkLwLI",
      "include_colab_link": true
    },
    "kernelspec": {
      "name": "python3",
      "display_name": "Python 3"
    },
    "language_info": {
      "name": "python"
    },
    "accelerator": "GPU",
    "gpuClass": "standard"
  },
  "cells": [
    {
      "cell_type": "markdown",
      "metadata": {
        "id": "view-in-github",
        "colab_type": "text"
      },
      "source": [
        "<a href=\"https://colab.research.google.com/github/ibadurrehman1/Cat_and_dog/blob/master/CAT_AND_DOG_CNN.ipynb\" target=\"_parent\"><img src=\"https://colab.research.google.com/assets/colab-badge.svg\" alt=\"Open In Colab\"/></a>"
      ]
    },
    {
      "cell_type": "code",
      "execution_count": 1,
      "metadata": {
        "colab": {
          "base_uri": "https://localhost:8080/"
        },
        "id": "5Kd9OY3X-5FF",
        "outputId": "03b112bd-17a6-458b-8bf7-5b621410f054"
      },
      "outputs": [
        {
          "output_type": "stream",
          "name": "stdout",
          "text": [
            "Drive already mounted at /content/drive; to attempt to forcibly remount, call drive.mount(\"/content/drive\", force_remount=True).\n"
          ]
        }
      ],
      "source": [
        "from google.colab import drive\n",
        "drive.mount('/content/drive')"
      ]
    },
    {
      "cell_type": "code",
      "source": [
        "from zipfile import ZipFile\n",
        "file_name =\"/content/drive/MyDrive/cat_and_dog_data.zip\"\n",
        "with ZipFile(file_name,'r') as zip:\n",
        "  zip.extractall()\n",
        "  print('finish')"
      ],
      "metadata": {
        "colab": {
          "base_uri": "https://localhost:8080/"
        },
        "id": "JyPAqEBaARtF",
        "outputId": "20900b3b-4c46-4491-b9c2-159b1ce703cf"
      },
      "execution_count": 2,
      "outputs": [
        {
          "output_type": "stream",
          "name": "stdout",
          "text": [
            "finish\n"
          ]
        }
      ]
    },
    {
      "cell_type": "code",
      "source": [
        "!pip install -q keras"
      ],
      "metadata": {
        "id": "h1mfKvp1AuF2"
      },
      "execution_count": 3,
      "outputs": []
    },
    {
      "cell_type": "code",
      "source": [
        "from keras.models import Sequential\n",
        "from keras.layers import Dense,Flatten,MaxPool2D,Conv2D"
      ],
      "metadata": {
        "id": "X16oDdp8CetN"
      },
      "execution_count": 22,
      "outputs": []
    },
    {
      "cell_type": "code",
      "source": [
        "classifier=Sequential()\n",
        "classifier.add(Conv2D(32,(3,3),input_shape=(150,150,3),activation=\"relu\"))\n",
        "classifier.add(MaxPool2D())\n",
        "classifier.add(Conv2D(16,(3,3),activation=\"relu\"))\n",
        "classifier.add(MaxPool2D())\n",
        "classifier.add(Flatten())\n",
        "classifier.add(Dense(units=128, activation='relu'))\n",
        "classifier.add(Dense(units=1, activation='sigmoid'))"
      ],
      "metadata": {
        "id": "8dBHUYZBC0LO"
      },
      "execution_count": 23,
      "outputs": []
    },
    {
      "cell_type": "code",
      "source": [
        "classifier.compile(optimizer ='adam',loss='binary_crossentropy',metrics=['accuracy'])"
      ],
      "metadata": {
        "id": "MCZFx9AJEP8V"
      },
      "execution_count": 24,
      "outputs": []
    },
    {
      "cell_type": "code",
      "source": [
        "classifier.summary()"
      ],
      "metadata": {
        "colab": {
          "base_uri": "https://localhost:8080/"
        },
        "id": "lp8-ralrESWV",
        "outputId": "ed82d44a-0296-40ab-c8e0-2cea8804c356"
      },
      "execution_count": 25,
      "outputs": [
        {
          "output_type": "stream",
          "name": "stdout",
          "text": [
            "Model: \"sequential_4\"\n",
            "_________________________________________________________________\n",
            " Layer (type)                Output Shape              Param #   \n",
            "=================================================================\n",
            " conv2d_8 (Conv2D)           (None, 148, 148, 32)      896       \n",
            "                                                                 \n",
            " max_pooling2d_8 (MaxPooling  (None, 74, 74, 32)       0         \n",
            " 2D)                                                             \n",
            "                                                                 \n",
            " conv2d_9 (Conv2D)           (None, 72, 72, 16)        4624      \n",
            "                                                                 \n",
            " max_pooling2d_9 (MaxPooling  (None, 36, 36, 16)       0         \n",
            " 2D)                                                             \n",
            "                                                                 \n",
            " flatten_4 (Flatten)         (None, 20736)             0         \n",
            "                                                                 \n",
            " dense_8 (Dense)             (None, 128)               2654336   \n",
            "                                                                 \n",
            " dense_9 (Dense)             (None, 1)                 129       \n",
            "                                                                 \n",
            "=================================================================\n",
            "Total params: 2,659,985\n",
            "Trainable params: 2,659,985\n",
            "Non-trainable params: 0\n",
            "_________________________________________________________________\n"
          ]
        }
      ]
    },
    {
      "cell_type": "code",
      "source": [
        "from keras.preprocessing.image import ImageDataGenerator\n",
        "\n",
        "train_datagen = ImageDataGenerator(rescale = 1./255,\n",
        "                                   shear_range = 0.2,\n",
        "                                   zoom_range = 0.2,\n",
        "                                   horizontal_flip = True)\n",
        "\n",
        "test_datagen = ImageDataGenerator(rescale = 1./255)\n",
        "\n",
        "training_set = train_datagen.flow_from_directory('/content/dataset/training_set',\n",
        "                                                 target_size = (150,150),\n",
        "                                                 batch_size = 32,\n",
        "                                                 class_mode = 'binary')\n",
        "\n",
        "test_set = test_datagen.flow_from_directory('/content/dataset/test_set',\n",
        "                                            target_size = (150,150),\n",
        "                                            batch_size = 32,\n",
        "                                            class_mode = 'binary')\n",
        "\n"
      ],
      "metadata": {
        "colab": {
          "base_uri": "https://localhost:8080/"
        },
        "id": "vrvzvRLAEY8V",
        "outputId": "1de9fc0b-c834-44ac-db14-c8681f38c672"
      },
      "execution_count": 26,
      "outputs": [
        {
          "output_type": "stream",
          "name": "stdout",
          "text": [
            "Found 8000 images belonging to 2 classes.\n",
            "Found 2000 images belonging to 2 classes.\n"
          ]
        }
      ]
    },
    {
      "cell_type": "code",
      "source": [
        "print(len(training_set))\n",
        "len(test_set)"
      ],
      "metadata": {
        "colab": {
          "base_uri": "https://localhost:8080/"
        },
        "id": "nuK_gymFFN1O",
        "outputId": "480a54ca-7ccd-4abe-870b-9402e28b1cc7"
      },
      "execution_count": 27,
      "outputs": [
        {
          "output_type": "stream",
          "name": "stdout",
          "text": [
            "250\n"
          ]
        },
        {
          "output_type": "execute_result",
          "data": {
            "text/plain": [
              "63"
            ]
          },
          "metadata": {},
          "execution_count": 27
        }
      ]
    },
    {
      "cell_type": "code",
      "source": [
        "history=classifier.fit(training_set,\n",
        "                                 steps_per_epoch=len(training_set),\n",
        "                                 epochs = 50,\n",
        "                                 validation_data = test_set,\n",
        "                                 validation_steps=len(test_set)\n",
        "              )"
      ],
      "metadata": {
        "colab": {
          "base_uri": "https://localhost:8080/"
        },
        "id": "foEqL33LFAeG",
        "outputId": "23dca7eb-ef28-4564-f8f4-c146e041d871"
      },
      "execution_count": 28,
      "outputs": [
        {
          "output_type": "stream",
          "name": "stdout",
          "text": [
            "Epoch 1/50\n",
            "250/250 [==============================] - 70s 274ms/step - loss: 0.6906 - accuracy: 0.5396 - val_loss: 0.6450 - val_accuracy: 0.6235\n",
            "Epoch 2/50\n",
            "250/250 [==============================] - 67s 267ms/step - loss: 0.6250 - accuracy: 0.6490 - val_loss: 0.5815 - val_accuracy: 0.6940\n",
            "Epoch 3/50\n",
            "250/250 [==============================] - 68s 273ms/step - loss: 0.5744 - accuracy: 0.6975 - val_loss: 0.5721 - val_accuracy: 0.7165\n",
            "Epoch 4/50\n",
            "250/250 [==============================] - 66s 266ms/step - loss: 0.5514 - accuracy: 0.7205 - val_loss: 0.5276 - val_accuracy: 0.7450\n",
            "Epoch 5/50\n",
            "250/250 [==============================] - 70s 280ms/step - loss: 0.5234 - accuracy: 0.7418 - val_loss: 0.5053 - val_accuracy: 0.7445\n",
            "Epoch 6/50\n",
            "250/250 [==============================] - 68s 272ms/step - loss: 0.4986 - accuracy: 0.7566 - val_loss: 0.4825 - val_accuracy: 0.7655\n",
            "Epoch 7/50\n",
            "250/250 [==============================] - 66s 265ms/step - loss: 0.4770 - accuracy: 0.7751 - val_loss: 0.4925 - val_accuracy: 0.7735\n",
            "Epoch 8/50\n",
            "250/250 [==============================] - 70s 280ms/step - loss: 0.4690 - accuracy: 0.7739 - val_loss: 0.4727 - val_accuracy: 0.7730\n",
            "Epoch 9/50\n",
            "250/250 [==============================] - 68s 274ms/step - loss: 0.4477 - accuracy: 0.7910 - val_loss: 0.4683 - val_accuracy: 0.7820\n",
            "Epoch 10/50\n",
            "250/250 [==============================] - 68s 274ms/step - loss: 0.4358 - accuracy: 0.7928 - val_loss: 0.4572 - val_accuracy: 0.7835\n",
            "Epoch 11/50\n",
            "250/250 [==============================] - 70s 281ms/step - loss: 0.4302 - accuracy: 0.8027 - val_loss: 0.4705 - val_accuracy: 0.7955\n",
            "Epoch 12/50\n",
            "250/250 [==============================] - 66s 265ms/step - loss: 0.4283 - accuracy: 0.7986 - val_loss: 0.4702 - val_accuracy: 0.7825\n",
            "Epoch 13/50\n",
            "250/250 [==============================] - 65s 261ms/step - loss: 0.4146 - accuracy: 0.8139 - val_loss: 0.4516 - val_accuracy: 0.7970\n",
            "Epoch 14/50\n",
            "250/250 [==============================] - 73s 290ms/step - loss: 0.4121 - accuracy: 0.8102 - val_loss: 0.4563 - val_accuracy: 0.8075\n",
            "Epoch 15/50\n",
            "250/250 [==============================] - 66s 264ms/step - loss: 0.3950 - accuracy: 0.8179 - val_loss: 0.4459 - val_accuracy: 0.7890\n",
            "Epoch 16/50\n",
            "250/250 [==============================] - 65s 261ms/step - loss: 0.3950 - accuracy: 0.8204 - val_loss: 0.4411 - val_accuracy: 0.8065\n",
            "Epoch 17/50\n",
            "250/250 [==============================] - 68s 273ms/step - loss: 0.3870 - accuracy: 0.8266 - val_loss: 0.4421 - val_accuracy: 0.8065\n",
            "Epoch 18/50\n",
            "250/250 [==============================] - 66s 265ms/step - loss: 0.3826 - accuracy: 0.8299 - val_loss: 0.4463 - val_accuracy: 0.8110\n",
            "Epoch 19/50\n",
            "250/250 [==============================] - 70s 280ms/step - loss: 0.3700 - accuracy: 0.8340 - val_loss: 0.4790 - val_accuracy: 0.8025\n",
            "Epoch 20/50\n",
            "250/250 [==============================] - 67s 266ms/step - loss: 0.3684 - accuracy: 0.8350 - val_loss: 0.4733 - val_accuracy: 0.8050\n",
            "Epoch 21/50\n",
            "250/250 [==============================] - 70s 282ms/step - loss: 0.3531 - accuracy: 0.8395 - val_loss: 0.4751 - val_accuracy: 0.8085\n",
            "Epoch 22/50\n",
            "250/250 [==============================] - 68s 272ms/step - loss: 0.3560 - accuracy: 0.8419 - val_loss: 0.4433 - val_accuracy: 0.7985\n",
            "Epoch 23/50\n",
            "250/250 [==============================] - 66s 265ms/step - loss: 0.3508 - accuracy: 0.8425 - val_loss: 0.4587 - val_accuracy: 0.8070\n",
            "Epoch 24/50\n",
            "250/250 [==============================] - 70s 280ms/step - loss: 0.3413 - accuracy: 0.8470 - val_loss: 0.4511 - val_accuracy: 0.8085\n",
            "Epoch 25/50\n",
            "250/250 [==============================] - 68s 271ms/step - loss: 0.3470 - accuracy: 0.8462 - val_loss: 0.4552 - val_accuracy: 0.8175\n",
            "Epoch 26/50\n",
            "250/250 [==============================] - 70s 280ms/step - loss: 0.3349 - accuracy: 0.8518 - val_loss: 0.4492 - val_accuracy: 0.8095\n",
            "Epoch 27/50\n",
            "250/250 [==============================] - 70s 280ms/step - loss: 0.3296 - accuracy: 0.8521 - val_loss: 0.4648 - val_accuracy: 0.8050\n",
            "Epoch 28/50\n",
            "250/250 [==============================] - 66s 264ms/step - loss: 0.3220 - accuracy: 0.8524 - val_loss: 0.4574 - val_accuracy: 0.8105\n",
            "Epoch 29/50\n",
            "250/250 [==============================] - 70s 281ms/step - loss: 0.3203 - accuracy: 0.8594 - val_loss: 0.4895 - val_accuracy: 0.8110\n",
            "Epoch 30/50\n",
            "250/250 [==============================] - 68s 271ms/step - loss: 0.3154 - accuracy: 0.8571 - val_loss: 0.4670 - val_accuracy: 0.8010\n",
            "Epoch 31/50\n",
            "250/250 [==============================] - 70s 279ms/step - loss: 0.3095 - accuracy: 0.8643 - val_loss: 0.4646 - val_accuracy: 0.8090\n",
            "Epoch 32/50\n",
            "250/250 [==============================] - 66s 264ms/step - loss: 0.3029 - accuracy: 0.8645 - val_loss: 0.4757 - val_accuracy: 0.8125\n",
            "Epoch 33/50\n",
            "250/250 [==============================] - 67s 267ms/step - loss: 0.3051 - accuracy: 0.8666 - val_loss: 0.4821 - val_accuracy: 0.8075\n",
            "Epoch 34/50\n",
            "250/250 [==============================] - 65s 261ms/step - loss: 0.2948 - accuracy: 0.8700 - val_loss: 0.5110 - val_accuracy: 0.8065\n",
            "Epoch 35/50\n",
            "250/250 [==============================] - 68s 273ms/step - loss: 0.2996 - accuracy: 0.8658 - val_loss: 0.5020 - val_accuracy: 0.7945\n",
            "Epoch 36/50\n",
            "250/250 [==============================] - 66s 266ms/step - loss: 0.2890 - accuracy: 0.8731 - val_loss: 0.5837 - val_accuracy: 0.7875\n",
            "Epoch 37/50\n",
            "250/250 [==============================] - 65s 262ms/step - loss: 0.2807 - accuracy: 0.8791 - val_loss: 0.5096 - val_accuracy: 0.8080\n",
            "Epoch 38/50\n",
            "250/250 [==============================] - 66s 264ms/step - loss: 0.2870 - accuracy: 0.8735 - val_loss: 0.4875 - val_accuracy: 0.8160\n",
            "Epoch 39/50\n",
            "250/250 [==============================] - 64s 257ms/step - loss: 0.2776 - accuracy: 0.8834 - val_loss: 0.5106 - val_accuracy: 0.8095\n",
            "Epoch 40/50\n",
            "250/250 [==============================] - 68s 270ms/step - loss: 0.2807 - accuracy: 0.8774 - val_loss: 0.4968 - val_accuracy: 0.8235\n",
            "Epoch 41/50\n",
            "250/250 [==============================] - 66s 263ms/step - loss: 0.2728 - accuracy: 0.8823 - val_loss: 0.4830 - val_accuracy: 0.8115\n",
            "Epoch 42/50\n",
            "250/250 [==============================] - 66s 264ms/step - loss: 0.2648 - accuracy: 0.8867 - val_loss: 0.5748 - val_accuracy: 0.7995\n",
            "Epoch 43/50\n",
            "250/250 [==============================] - 71s 285ms/step - loss: 0.2756 - accuracy: 0.8810 - val_loss: 0.5039 - val_accuracy: 0.8000\n",
            "Epoch 44/50\n",
            "250/250 [==============================] - 66s 264ms/step - loss: 0.2653 - accuracy: 0.8867 - val_loss: 0.4906 - val_accuracy: 0.8125\n",
            "Epoch 45/50\n",
            "250/250 [==============================] - 66s 262ms/step - loss: 0.2571 - accuracy: 0.8886 - val_loss: 0.5148 - val_accuracy: 0.8115\n",
            "Epoch 46/50\n",
            "250/250 [==============================] - 67s 266ms/step - loss: 0.2718 - accuracy: 0.8849 - val_loss: 0.5009 - val_accuracy: 0.8155\n",
            "Epoch 47/50\n",
            "250/250 [==============================] - 66s 264ms/step - loss: 0.2664 - accuracy: 0.8848 - val_loss: 0.5335 - val_accuracy: 0.8125\n",
            "Epoch 48/50\n",
            "250/250 [==============================] - 68s 271ms/step - loss: 0.2522 - accuracy: 0.8900 - val_loss: 0.5066 - val_accuracy: 0.8125\n",
            "Epoch 49/50\n",
            "250/250 [==============================] - 70s 280ms/step - loss: 0.2539 - accuracy: 0.8888 - val_loss: 0.5297 - val_accuracy: 0.8190\n",
            "Epoch 50/50\n",
            "250/250 [==============================] - 66s 264ms/step - loss: 0.2482 - accuracy: 0.8917 - val_loss: 0.5320 - val_accuracy: 0.8085\n"
          ]
        }
      ]
    },
    {
      "cell_type": "code",
      "source": [
        "import matplotlib.pyplot as plt\n",
        "plt.plot(history.history['accuracy'],label=\"Training Accuracy\")\n",
        "plt.plot(history.history['val_accuracy'],label=\"Testing Accuracy\")\n",
        "plt.plot(history.history['loss'],label=\"Training Loss\")\n",
        "plt.plot(history.history['val_loss'],label=\"Testing Loss\")\n",
        "plt.legend()\n",
        "plt.title(\"Accuracy Loss Graph\")\n",
        "plt.ylim([0,1])\n",
        "plt.show()"
      ],
      "metadata": {
        "colab": {
          "base_uri": "https://localhost:8080/",
          "height": 281
        },
        "id": "GRagAhRMf1gf",
        "outputId": "f1d307f0-db93-460d-e90b-18d5889757e4"
      },
      "execution_count": 38,
      "outputs": [
        {
          "output_type": "display_data",
          "data": {
            "text/plain": [
              "<Figure size 432x288 with 1 Axes>"
            ],
            "image/png": "[encoded data removed]"
          },
          "metadata": {
            "needs_background": "light"
          }
        }
      ]
    },
    {
      "cell_type": "code",
      "source": [
        "plt.plot(history.history['accuracy'],label=\"Training Loss\")\n",
        "plt.plot(history.history['val_accuracy'],label=\"Testing Loss\")\n",
        "plt.legend()\n",
        "plt.title(\"Accuracy Graph\")\n",
        "plt.ylim([0,1])\n",
        "plt.show()"
      ],
      "metadata": {
        "colab": {
          "base_uri": "https://localhost:8080/",
          "height": 281
        },
        "id": "FTFLv1sQgT7p",
        "outputId": "9e685f43-6701-478c-9a80-f069843e4be7"
      },
      "execution_count": 36,
      "outputs": [
        {
          "output_type": "display_data",
          "data": {
            "text/plain": [
              "<Figure size 432x288 with 1 Axes>"
            ],
            "image/png": "[encoded data removed]"
          },
          "metadata": {
            "needs_background": "light"
          }
        }
      ]
    },
    {
      "cell_type": "code",
      "source": [],
      "metadata": {
        "id": "kvf0F9pRgqk6"
      },
      "execution_count": null,
      "outputs": []
    }
  ]
}